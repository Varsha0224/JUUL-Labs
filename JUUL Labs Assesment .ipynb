{
 "cells": [
  {
   "cell_type": "code",
   "execution_count": 255,
   "metadata": {},
   "outputs": [],
   "source": [
    "#Importing Data for RMA \n",
    "import pandas as pd\n",
    "df = pd.read_csv(\"Retail_Data_RMA.csv\")"
   ]
  },
  {
   "cell_type": "code",
   "execution_count": 256,
   "metadata": {},
   "outputs": [
    {
     "name": "stdout",
     "output_type": "stream",
     "text": [
      "                        Geography                     Product  \\\n",
      "0     Circle K Florida-RMA - Conv                  CIGARETTES   \n",
      "1     Circle K Florida-RMA - Conv                  CIGARETTES   \n",
      "2     Circle K Florida-RMA - Conv                  CIGARETTES   \n",
      "3     Circle K Florida-RMA - Conv                  CIGARETTES   \n",
      "4     Circle K Florida-RMA - Conv                  CIGARETTES   \n",
      "5     Circle K Florida-RMA - Conv                  CIGARETTES   \n",
      "6     Circle K Florida-RMA - Conv                  CIGARETTES   \n",
      "7     Circle K Florida-RMA - Conv                  CIGARETTES   \n",
      "8     Circle K Florida-RMA - Conv                  CIGARETTES   \n",
      "9     Circle K Florida-RMA - Conv                  CIGARETTES   \n",
      "10    Circle K Florida-RMA - Conv                  CIGARETTES   \n",
      "11    Circle K Florida-RMA - Conv                  CIGARETTES   \n",
      "12    Circle K Florida-RMA - Conv                  CIGARETTES   \n",
      "13    Circle K Florida-RMA - Conv                  CIGARETTES   \n",
      "14    Circle K Florida-RMA - Conv                  CIGARETTES   \n",
      "15    Circle K Florida-RMA - Conv                  CIGARETTES   \n",
      "16    Circle K Florida-RMA - Conv                  CIGARETTES   \n",
      "17    Circle K Florida-RMA - Conv                  CIGARETTES   \n",
      "18    Circle K Florida-RMA - Conv                  CIGARETTES   \n",
      "19    Circle K Florida-RMA - Conv                  CIGARETTES   \n",
      "20    Circle K Florida-RMA - Conv                  CIGARETTES   \n",
      "21    Circle K Florida-RMA - Conv                  CIGARETTES   \n",
      "22    Circle K Florida-RMA - Conv                  CIGARETTES   \n",
      "23    Circle K Florida-RMA - Conv                  CIGARETTES   \n",
      "24    Circle K Florida-RMA - Conv                  CIGARETTES   \n",
      "25    Circle K Florida-RMA - Conv                  CIGARETTES   \n",
      "26    Circle K Florida-RMA - Conv                  CIGARETTES   \n",
      "27    Circle K Florida-RMA - Conv  ELECTRONIC SMOKING DEVICES   \n",
      "28    Circle K Florida-RMA - Conv  ELECTRONIC SMOKING DEVICES   \n",
      "29    Circle K Florida-RMA - Conv  ELECTRONIC SMOKING DEVICES   \n",
      "...                           ...                         ...   \n",
      "6837     RaceTrac Corp-RMA - Conv                  CIGARETTES   \n",
      "6838     RaceTrac Corp-RMA - Conv                  CIGARETTES   \n",
      "6839     RaceTrac Corp-RMA - Conv                  CIGARETTES   \n",
      "6840     RaceTrac Corp-RMA - Conv  ELECTRONIC SMOKING DEVICES   \n",
      "6841     RaceTrac Corp-RMA - Conv  ELECTRONIC SMOKING DEVICES   \n",
      "6842     RaceTrac Corp-RMA - Conv  ELECTRONIC SMOKING DEVICES   \n",
      "6843     RaceTrac Corp-RMA - Conv  ELECTRONIC SMOKING DEVICES   \n",
      "6844     RaceTrac Corp-RMA - Conv  ELECTRONIC SMOKING DEVICES   \n",
      "6845     RaceTrac Corp-RMA - Conv  ELECTRONIC SMOKING DEVICES   \n",
      "6846     RaceTrac Corp-RMA - Conv  ELECTRONIC SMOKING DEVICES   \n",
      "6847     RaceTrac Corp-RMA - Conv  ELECTRONIC SMOKING DEVICES   \n",
      "6848     RaceTrac Corp-RMA - Conv  ELECTRONIC SMOKING DEVICES   \n",
      "6849     RaceTrac Corp-RMA - Conv  ELECTRONIC SMOKING DEVICES   \n",
      "6850     RaceTrac Corp-RMA - Conv  ELECTRONIC SMOKING DEVICES   \n",
      "6851     RaceTrac Corp-RMA - Conv  ELECTRONIC SMOKING DEVICES   \n",
      "6852     RaceTrac Corp-RMA - Conv  ELECTRONIC SMOKING DEVICES   \n",
      "6853     RaceTrac Corp-RMA - Conv  ELECTRONIC SMOKING DEVICES   \n",
      "6854     RaceTrac Corp-RMA - Conv  ELECTRONIC SMOKING DEVICES   \n",
      "6855     RaceTrac Corp-RMA - Conv  ELECTRONIC SMOKING DEVICES   \n",
      "6856     RaceTrac Corp-RMA - Conv  ELECTRONIC SMOKING DEVICES   \n",
      "6857     RaceTrac Corp-RMA - Conv  ELECTRONIC SMOKING DEVICES   \n",
      "6858     RaceTrac Corp-RMA - Conv  ELECTRONIC SMOKING DEVICES   \n",
      "6859     RaceTrac Corp-RMA - Conv  ELECTRONIC SMOKING DEVICES   \n",
      "6860     RaceTrac Corp-RMA - Conv  ELECTRONIC SMOKING DEVICES   \n",
      "6861     RaceTrac Corp-RMA - Conv  ELECTRONIC SMOKING DEVICES   \n",
      "6862     RaceTrac Corp-RMA - Conv  ELECTRONIC SMOKING DEVICES   \n",
      "6863     RaceTrac Corp-RMA - Conv  ELECTRONIC SMOKING DEVICES   \n",
      "6864     RaceTrac Corp-RMA - Conv  ELECTRONIC SMOKING DEVICES   \n",
      "6865     RaceTrac Corp-RMA - Conv  ELECTRONIC SMOKING DEVICES   \n",
      "6866     RaceTrac Corp-RMA - Conv  ELECTRONIC SMOKING DEVICES   \n",
      "\n",
      "                         Time  Dollar Sales Unit Sales               SKU  \n",
      "0     4 Weeks Ending 01-31-16  $28,921,840   4,968,512  Cigarettes Total  \n",
      "1     4 Weeks Ending 02-28-16  $30,276,221   5,139,635  Cigarettes Total  \n",
      "2     4 Weeks Ending 03-27-16  $31,535,168   5,366,848  Cigarettes Total  \n",
      "3     4 Weeks Ending 04-24-16  $31,693,488   5,420,033  Cigarettes Total  \n",
      "4     4 Weeks Ending 05-22-16  $31,390,946   5,380,230  Cigarettes Total  \n",
      "5     4 Weeks Ending 06-19-16  $31,286,285   5,351,033  Cigarettes Total  \n",
      "6     4 Weeks Ending 07-17-16  $31,058,486   5,306,152  Cigarettes Total  \n",
      "7     4 Weeks Ending 08-14-16  $30,747,717   5,259,324  Cigarettes Total  \n",
      "8     4 Weeks Ending 09-11-16  $30,396,088   5,198,175  Cigarettes Total  \n",
      "9     4 Weeks Ending 10-09-16  $30,123,053   5,131,669  Cigarettes Total  \n",
      "10    4 Weeks Ending 11-06-16  $31,130,560   5,341,678  Cigarettes Total  \n",
      "11    4 Weeks Ending 12-04-16  $31,098,709   5,312,354  Cigarettes Total  \n",
      "12    4 Weeks Ending 01-01-17  $31,461,500   5,337,813  Cigarettes Total  \n",
      "13    4 Weeks Ending 01-29-17  $30,432,879   5,164,424  Cigarettes Total  \n",
      "14    4 Weeks Ending 02-26-17  $31,402,310   5,322,135  Cigarettes Total  \n",
      "15    4 Weeks Ending 03-26-17  $32,170,165   5,424,725  Cigarettes Total  \n",
      "16    4 Weeks Ending 04-23-17  $32,622,315   5,497,265  Cigarettes Total  \n",
      "17    4 Weeks Ending 05-21-17  $32,204,223   5,425,081  Cigarettes Total  \n",
      "18    4 Weeks Ending 06-18-17  $31,439,810   5,295,483  Cigarettes Total  \n",
      "19    4 Weeks Ending 07-16-17  $31,710,591   5,323,886  Cigarettes Total  \n",
      "20    4 Weeks Ending 08-13-17  $31,545,185   5,277,076  Cigarettes Total  \n",
      "21    4 Weeks Ending 09-10-17  $31,327,132   5,036,894  Cigarettes Total  \n",
      "22    4 Weeks Ending 10-08-17  $29,300,491   4,802,084  Cigarettes Total  \n",
      "23    4 Weeks Ending 11-05-17  $32,172,551   5,211,170  Cigarettes Total  \n",
      "24    4 Weeks Ending 12-03-17  $31,798,718   5,139,660  Cigarettes Total  \n",
      "25    4 Weeks Ending 12-31-17  $31,232,120   5,046,590  Cigarettes Total  \n",
      "26    4 Weeks Ending 01-28-18  $29,186,725   4,750,724  Cigarettes Total  \n",
      "27    4 Weeks Ending 01-31-16     $409,493      45,085      E-Cigs Total  \n",
      "28    4 Weeks Ending 02-28-16     $436,735      46,103      E-Cigs Total  \n",
      "29    4 Weeks Ending 03-27-16     $432,972      45,642      E-Cigs Total  \n",
      "...                       ...           ...        ...               ...  \n",
      "6837  4 Weeks Ending 12-03-17  $32,265,393   4,801,635  Cigarettes Total  \n",
      "6838  4 Weeks Ending 12-31-17  $31,578,583   4,688,522  Cigarettes Total  \n",
      "6839  4 Weeks Ending 01-28-18  $30,525,936   4,517,158  Cigarettes Total  \n",
      "6840  4 Weeks Ending 01-31-16     $330,612      47,467      E-Cigs Total  \n",
      "6841  4 Weeks Ending 02-28-16     $349,293      50,553      E-Cigs Total  \n",
      "6842  4 Weeks Ending 03-27-16     $350,157      44,867      E-Cigs Total  \n",
      "6843  4 Weeks Ending 04-24-16     $348,191      44,193      E-Cigs Total  \n",
      "6844  4 Weeks Ending 05-22-16     $364,729      46,634      E-Cigs Total  \n",
      "6845  4 Weeks Ending 06-19-16     $367,391      47,072      E-Cigs Total  \n",
      "6846  4 Weeks Ending 07-17-16     $369,200      47,967      E-Cigs Total  \n",
      "6847  4 Weeks Ending 08-14-16     $371,224      49,354      E-Cigs Total  \n",
      "6848  4 Weeks Ending 09-11-16     $380,079      50,582      E-Cigs Total  \n",
      "6849  4 Weeks Ending 10-09-16     $390,263      51,508      E-Cigs Total  \n",
      "6850  4 Weeks Ending 11-06-16     $417,440      54,281      E-Cigs Total  \n",
      "6851  4 Weeks Ending 12-04-16     $414,717      53,811      E-Cigs Total  \n",
      "6852  4 Weeks Ending 01-01-17     $404,478      51,292      E-Cigs Total  \n",
      "6853  4 Weeks Ending 01-29-17     $406,189      50,679      E-Cigs Total  \n",
      "6854  4 Weeks Ending 02-26-17     $411,898      51,801      E-Cigs Total  \n",
      "6855  4 Weeks Ending 03-26-17     $481,672      61,355      E-Cigs Total  \n",
      "6856  4 Weeks Ending 04-23-17     $470,983      62,698      E-Cigs Total  \n",
      "6857  4 Weeks Ending 05-21-17     $494,043      65,014      E-Cigs Total  \n",
      "6858  4 Weeks Ending 06-18-17     $508,929      67,041      E-Cigs Total  \n",
      "6859  4 Weeks Ending 07-16-17     $493,803      62,510      E-Cigs Total  \n",
      "6860  4 Weeks Ending 08-13-17     $437,372      48,919      E-Cigs Total  \n",
      "6861  4 Weeks Ending 09-10-17     $414,549      45,202      E-Cigs Total  \n",
      "6862  4 Weeks Ending 10-08-17     $394,327      42,642      E-Cigs Total  \n",
      "6863  4 Weeks Ending 11-05-17     $411,912      45,864      E-Cigs Total  \n",
      "6864  4 Weeks Ending 12-03-17     $421,262      46,677      E-Cigs Total  \n",
      "6865  4 Weeks Ending 12-31-17     $421,510      46,514      E-Cigs Total  \n",
      "6866  4 Weeks Ending 01-28-18     $420,788      45,509      E-Cigs Total  \n",
      "\n",
      "[6867 rows x 6 columns]\n"
     ]
    }
   ],
   "source": [
    "print(df)"
   ]
  },
  {
   "cell_type": "code",
   "execution_count": 257,
   "metadata": {},
   "outputs": [
    {
     "name": "stdout",
     "output_type": "stream",
     "text": [
      "<class 'pandas.core.frame.DataFrame'>\n",
      "RangeIndex: 6867 entries, 0 to 6866\n",
      "Data columns (total 6 columns):\n",
      "Geography       6867 non-null object\n",
      "Product         6867 non-null object\n",
      "Time            6867 non-null object\n",
      "Dollar Sales    6867 non-null object\n",
      "Unit Sales      6867 non-null object\n",
      "SKU             6867 non-null object\n",
      "dtypes: object(6)\n",
      "memory usage: 322.0+ KB\n"
     ]
    }
   ],
   "source": [
    "#Exploratory Data analysis\n",
    "#Find datatypes of columns in dataset\n",
    "df.info()"
   ]
  },
  {
   "cell_type": "code",
   "execution_count": 258,
   "metadata": {},
   "outputs": [
    {
     "data": {
      "text/plain": [
       "(6867, 6)"
      ]
     },
     "execution_count": 258,
     "metadata": {},
     "output_type": "execute_result"
    }
   ],
   "source": [
    "#Shape of the data\n",
    "df.shape"
   ]
  },
  {
   "cell_type": "code",
   "execution_count": 259,
   "metadata": {},
   "outputs": [
    {
     "data": {
      "text/html": [
       "<div>\n",
       "<style scoped>\n",
       "    .dataframe tbody tr th:only-of-type {\n",
       "        vertical-align: middle;\n",
       "    }\n",
       "\n",
       "    .dataframe tbody tr th {\n",
       "        vertical-align: top;\n",
       "    }\n",
       "\n",
       "    .dataframe thead th {\n",
       "        text-align: right;\n",
       "    }\n",
       "</style>\n",
       "<table border=\"1\" class=\"dataframe\">\n",
       "  <thead>\n",
       "    <tr style=\"text-align: right;\">\n",
       "      <th></th>\n",
       "      <th>Geography</th>\n",
       "      <th>Product</th>\n",
       "      <th>Time</th>\n",
       "      <th>Dollar Sales</th>\n",
       "      <th>Unit Sales</th>\n",
       "      <th>SKU</th>\n",
       "    </tr>\n",
       "  </thead>\n",
       "  <tbody>\n",
       "    <tr>\n",
       "      <th>0</th>\n",
       "      <td>Circle K Florida-RMA - Conv</td>\n",
       "      <td>CIGARETTES</td>\n",
       "      <td>4 Weeks Ending 01-31-16</td>\n",
       "      <td>$28,921,840</td>\n",
       "      <td>4,968,512</td>\n",
       "      <td>Cigarettes Total</td>\n",
       "    </tr>\n",
       "    <tr>\n",
       "      <th>1</th>\n",
       "      <td>Circle K Florida-RMA - Conv</td>\n",
       "      <td>CIGARETTES</td>\n",
       "      <td>4 Weeks Ending 02-28-16</td>\n",
       "      <td>$30,276,221</td>\n",
       "      <td>5,139,635</td>\n",
       "      <td>Cigarettes Total</td>\n",
       "    </tr>\n",
       "    <tr>\n",
       "      <th>2</th>\n",
       "      <td>Circle K Florida-RMA - Conv</td>\n",
       "      <td>CIGARETTES</td>\n",
       "      <td>4 Weeks Ending 03-27-16</td>\n",
       "      <td>$31,535,168</td>\n",
       "      <td>5,366,848</td>\n",
       "      <td>Cigarettes Total</td>\n",
       "    </tr>\n",
       "    <tr>\n",
       "      <th>3</th>\n",
       "      <td>Circle K Florida-RMA - Conv</td>\n",
       "      <td>CIGARETTES</td>\n",
       "      <td>4 Weeks Ending 04-24-16</td>\n",
       "      <td>$31,693,488</td>\n",
       "      <td>5,420,033</td>\n",
       "      <td>Cigarettes Total</td>\n",
       "    </tr>\n",
       "    <tr>\n",
       "      <th>4</th>\n",
       "      <td>Circle K Florida-RMA - Conv</td>\n",
       "      <td>CIGARETTES</td>\n",
       "      <td>4 Weeks Ending 05-22-16</td>\n",
       "      <td>$31,390,946</td>\n",
       "      <td>5,380,230</td>\n",
       "      <td>Cigarettes Total</td>\n",
       "    </tr>\n",
       "  </tbody>\n",
       "</table>\n",
       "</div>"
      ],
      "text/plain": [
       "                     Geography     Product                     Time  \\\n",
       "0  Circle K Florida-RMA - Conv  CIGARETTES  4 Weeks Ending 01-31-16   \n",
       "1  Circle K Florida-RMA - Conv  CIGARETTES  4 Weeks Ending 02-28-16   \n",
       "2  Circle K Florida-RMA - Conv  CIGARETTES  4 Weeks Ending 03-27-16   \n",
       "3  Circle K Florida-RMA - Conv  CIGARETTES  4 Weeks Ending 04-24-16   \n",
       "4  Circle K Florida-RMA - Conv  CIGARETTES  4 Weeks Ending 05-22-16   \n",
       "\n",
       "   Dollar Sales Unit Sales               SKU  \n",
       "0  $28,921,840   4,968,512  Cigarettes Total  \n",
       "1  $30,276,221   5,139,635  Cigarettes Total  \n",
       "2  $31,535,168   5,366,848  Cigarettes Total  \n",
       "3  $31,693,488   5,420,033  Cigarettes Total  \n",
       "4  $31,390,946   5,380,230  Cigarettes Total  "
      ]
     },
     "execution_count": 259,
     "metadata": {},
     "output_type": "execute_result"
    }
   ],
   "source": [
    "#Look at first 5 rows\n",
    "df.head()"
   ]
  },
  {
   "cell_type": "code",
   "execution_count": 261,
   "metadata": {},
   "outputs": [
    {
     "data": {
      "text/html": [
       "<div>\n",
       "<style scoped>\n",
       "    .dataframe tbody tr th:only-of-type {\n",
       "        vertical-align: middle;\n",
       "    }\n",
       "\n",
       "    .dataframe tbody tr th {\n",
       "        vertical-align: top;\n",
       "    }\n",
       "\n",
       "    .dataframe thead th {\n",
       "        text-align: right;\n",
       "    }\n",
       "</style>\n",
       "<table border=\"1\" class=\"dataframe\">\n",
       "  <thead>\n",
       "    <tr style=\"text-align: right;\">\n",
       "      <th></th>\n",
       "      <th>Geography</th>\n",
       "      <th>Product</th>\n",
       "      <th>Time</th>\n",
       "      <th>Dollar Sales</th>\n",
       "      <th>Unit Sales</th>\n",
       "      <th>SKU</th>\n",
       "    </tr>\n",
       "  </thead>\n",
       "  <tbody>\n",
       "    <tr>\n",
       "      <th>6862</th>\n",
       "      <td>RaceTrac Corp-RMA - Conv</td>\n",
       "      <td>ELECTRONIC SMOKING DEVICES</td>\n",
       "      <td>4 Weeks Ending 10-08-17</td>\n",
       "      <td>$394,327</td>\n",
       "      <td>42,642</td>\n",
       "      <td>E-Cigs Total</td>\n",
       "    </tr>\n",
       "    <tr>\n",
       "      <th>6863</th>\n",
       "      <td>RaceTrac Corp-RMA - Conv</td>\n",
       "      <td>ELECTRONIC SMOKING DEVICES</td>\n",
       "      <td>4 Weeks Ending 11-05-17</td>\n",
       "      <td>$411,912</td>\n",
       "      <td>45,864</td>\n",
       "      <td>E-Cigs Total</td>\n",
       "    </tr>\n",
       "    <tr>\n",
       "      <th>6864</th>\n",
       "      <td>RaceTrac Corp-RMA - Conv</td>\n",
       "      <td>ELECTRONIC SMOKING DEVICES</td>\n",
       "      <td>4 Weeks Ending 12-03-17</td>\n",
       "      <td>$421,262</td>\n",
       "      <td>46,677</td>\n",
       "      <td>E-Cigs Total</td>\n",
       "    </tr>\n",
       "    <tr>\n",
       "      <th>6865</th>\n",
       "      <td>RaceTrac Corp-RMA - Conv</td>\n",
       "      <td>ELECTRONIC SMOKING DEVICES</td>\n",
       "      <td>4 Weeks Ending 12-31-17</td>\n",
       "      <td>$421,510</td>\n",
       "      <td>46,514</td>\n",
       "      <td>E-Cigs Total</td>\n",
       "    </tr>\n",
       "    <tr>\n",
       "      <th>6866</th>\n",
       "      <td>RaceTrac Corp-RMA - Conv</td>\n",
       "      <td>ELECTRONIC SMOKING DEVICES</td>\n",
       "      <td>4 Weeks Ending 01-28-18</td>\n",
       "      <td>$420,788</td>\n",
       "      <td>45,509</td>\n",
       "      <td>E-Cigs Total</td>\n",
       "    </tr>\n",
       "  </tbody>\n",
       "</table>\n",
       "</div>"
      ],
      "text/plain": [
       "                     Geography                     Product  \\\n",
       "6862  RaceTrac Corp-RMA - Conv  ELECTRONIC SMOKING DEVICES   \n",
       "6863  RaceTrac Corp-RMA - Conv  ELECTRONIC SMOKING DEVICES   \n",
       "6864  RaceTrac Corp-RMA - Conv  ELECTRONIC SMOKING DEVICES   \n",
       "6865  RaceTrac Corp-RMA - Conv  ELECTRONIC SMOKING DEVICES   \n",
       "6866  RaceTrac Corp-RMA - Conv  ELECTRONIC SMOKING DEVICES   \n",
       "\n",
       "                         Time Dollar Sales Unit Sales           SKU  \n",
       "6862  4 Weeks Ending 10-08-17    $394,327      42,642  E-Cigs Total  \n",
       "6863  4 Weeks Ending 11-05-17    $411,912      45,864  E-Cigs Total  \n",
       "6864  4 Weeks Ending 12-03-17    $421,262      46,677  E-Cigs Total  \n",
       "6865  4 Weeks Ending 12-31-17    $421,510      46,514  E-Cigs Total  \n",
       "6866  4 Weeks Ending 01-28-18    $420,788      45,509  E-Cigs Total  "
      ]
     },
     "execution_count": 261,
     "metadata": {},
     "output_type": "execute_result"
    }
   ],
   "source": [
    "#Look at last 5 rows\n",
    "df.tail()"
   ]
  },
  {
   "cell_type": "code",
   "execution_count": 262,
   "metadata": {},
   "outputs": [
    {
     "data": {
      "text/html": [
       "<div>\n",
       "<style scoped>\n",
       "    .dataframe tbody tr th:only-of-type {\n",
       "        vertical-align: middle;\n",
       "    }\n",
       "\n",
       "    .dataframe tbody tr th {\n",
       "        vertical-align: top;\n",
       "    }\n",
       "\n",
       "    .dataframe thead th {\n",
       "        text-align: right;\n",
       "    }\n",
       "</style>\n",
       "<table border=\"1\" class=\"dataframe\">\n",
       "  <thead>\n",
       "    <tr style=\"text-align: right;\">\n",
       "      <th></th>\n",
       "      <th>Geography</th>\n",
       "      <th>Product</th>\n",
       "      <th>Time</th>\n",
       "      <th>Dollar Sales</th>\n",
       "      <th>Unit Sales</th>\n",
       "      <th>SKU</th>\n",
       "    </tr>\n",
       "  </thead>\n",
       "  <tbody>\n",
       "    <tr>\n",
       "      <th>count</th>\n",
       "      <td>6867</td>\n",
       "      <td>6867</td>\n",
       "      <td>6867</td>\n",
       "      <td>6867</td>\n",
       "      <td>6867</td>\n",
       "      <td>6867</td>\n",
       "    </tr>\n",
       "    <tr>\n",
       "      <th>unique</th>\n",
       "      <td>56</td>\n",
       "      <td>10</td>\n",
       "      <td>27</td>\n",
       "      <td>6186</td>\n",
       "      <td>4809</td>\n",
       "      <td>4</td>\n",
       "    </tr>\n",
       "    <tr>\n",
       "      <th>top</th>\n",
       "      <td>Circle K Corp-RMA - Conv</td>\n",
       "      <td>CIGARETTES</td>\n",
       "      <td>4 Weeks Ending 01-28-18</td>\n",
       "      <td>$16</td>\n",
       "      <td>1</td>\n",
       "      <td>JUUL Refill Kits</td>\n",
       "    </tr>\n",
       "    <tr>\n",
       "      <th>freq</th>\n",
       "      <td>206</td>\n",
       "      <td>1504</td>\n",
       "      <td>390</td>\n",
       "      <td>14</td>\n",
       "      <td>35</td>\n",
       "      <td>2957</td>\n",
       "    </tr>\n",
       "  </tbody>\n",
       "</table>\n",
       "</div>"
      ],
      "text/plain": [
       "                       Geography     Product                     Time  \\\n",
       "count                       6867        6867                     6867   \n",
       "unique                        56          10                       27   \n",
       "top     Circle K Corp-RMA - Conv  CIGARETTES  4 Weeks Ending 01-28-18   \n",
       "freq                         206        1504                      390   \n",
       "\n",
       "       Dollar Sales Unit Sales               SKU  \n",
       "count          6867       6867              6867  \n",
       "unique         6186       4809                 4  \n",
       "top            $16           1  JUUL Refill Kits  \n",
       "freq             14         35              2957  "
      ]
     },
     "execution_count": 262,
     "metadata": {},
     "output_type": "execute_result"
    }
   ],
   "source": [
    "#Summary statistics\n",
    "df.describe()"
   ]
  },
  {
   "cell_type": "code",
   "execution_count": 263,
   "metadata": {},
   "outputs": [
    {
     "data": {
      "text/plain": [
       "0       False\n",
       "1       False\n",
       "2       False\n",
       "3       False\n",
       "4       False\n",
       "5       False\n",
       "6       False\n",
       "7       False\n",
       "8       False\n",
       "9       False\n",
       "10      False\n",
       "11      False\n",
       "12      False\n",
       "13      False\n",
       "14      False\n",
       "15      False\n",
       "16      False\n",
       "17      False\n",
       "18      False\n",
       "19      False\n",
       "20      False\n",
       "21      False\n",
       "22      False\n",
       "23      False\n",
       "24      False\n",
       "25      False\n",
       "26      False\n",
       "27      False\n",
       "28      False\n",
       "29      False\n",
       "        ...  \n",
       "6837    False\n",
       "6838    False\n",
       "6839    False\n",
       "6840    False\n",
       "6841    False\n",
       "6842    False\n",
       "6843    False\n",
       "6844    False\n",
       "6845    False\n",
       "6846    False\n",
       "6847    False\n",
       "6848    False\n",
       "6849    False\n",
       "6850    False\n",
       "6851    False\n",
       "6852    False\n",
       "6853    False\n",
       "6854    False\n",
       "6855    False\n",
       "6856    False\n",
       "6857    False\n",
       "6858    False\n",
       "6859    False\n",
       "6860    False\n",
       "6861    False\n",
       "6862    False\n",
       "6863    False\n",
       "6864    False\n",
       "6865    False\n",
       "6866    False\n",
       "Length: 6867, dtype: bool"
      ]
     },
     "execution_count": 263,
     "metadata": {},
     "output_type": "execute_result"
    }
   ],
   "source": [
    "#Check for duplicates\n",
    "df.duplicated()"
   ]
  },
  {
   "cell_type": "code",
   "execution_count": 264,
   "metadata": {},
   "outputs": [
    {
     "data": {
      "text/plain": [
       "False"
      ]
     },
     "execution_count": 264,
     "metadata": {},
     "output_type": "execute_result"
    }
   ],
   "source": [
    "#Look for missing values\n",
    "df.isnull().values.any()"
   ]
  },
  {
   "cell_type": "code",
   "execution_count": 265,
   "metadata": {},
   "outputs": [
    {
     "name": "stdout",
     "output_type": "stream",
     "text": [
      "['Circle K Corp-RMA - Conv', 'Circle K - Circle K Western-RMA - Conv', 'Circle K - Circle K Phoenix, AZ Metro-RMA - Conv', 'Circle K - Circle K Arizona-RMA - Conv', 'Circle K Southwest-RMA - Conv', 'Circle K - Circle K Tucson, AZ-RMA - Conv', 'Circle K - Circle K Las Vegas, NV-RMA - Conv', 'Circle K - Circle K Arizona Non-Metro-RMA - Conv', 'Circle K - Circle K Heartland-RMA - Conv', \"Daily's-RMA - Conv\", 'CST Brands Corp w/ Nice N Easy-RMA - Conv', 'Circle K South Atlantic-RMA - Conv', 'Circle K Midwest-RMA - Conv', 'Circle K Southeast-RMA - Conv', 'Murphy Express-RMA - Conv', 'Murphy USA-RMA - Conv', 'CST Brands Nice N Easy-RMA - Conv', 'Murphy Oil Total-RMA - Conv', 'BP Corp-RMA - Conv', 'BP Southwest-RMA - Conv', 'BP Los Angeles, CA-RMA - Conv', 'BP Nevada-RMA - Conv', 'BP Northwest-RMA - Conv', 'BP Central/South California-RMA - Conv', 'BP Northern California-RMA - Conv', 'BP Arizona-RMA - Conv', 'BP Pacific Northwest-RMA - Conv', 'Circle K Gulf-RMA - Conv', 'Kum & Go Central-RMA - Conv', 'Kum & Go Corp-RMA - Conv', 'CST Brands Corp-RMA - Conv', 'CST Brands Dallas/Ft. Worth, TX-RMA - Conv', 'CST Brands Corpus Christi Texas Valley-RMA - Conv', 'CST Brands Austin, TX-RMA - Conv', 'CST Brands Houston, TX-RMA - Conv', 'Kum & Go West-RMA - Conv', 'CST Brands Central Texas-RMA - Conv', 'CST Brands Colorado-RMA - Conv', 'Kum & Go South-RMA - Conv', 'CST Brands New Mexico/West Texas-RMA - Conv', 'CST Brands Arizona-RMA - Conv', 'Circle K Florida-RMA - Conv', 'Circle K - Circle K Great Lakes-RMA - Conv', 'Circle K - Circle K Great Lakes Total-RMA - Conv', 'RaceTrac LA/MS-RMA - Conv', 'RaceTrac Corp-RMA - Conv', 'Timewise-RMA - Conv', 'Circle K - Circle K Northeast-RMA - Conv', 'RaceTrac Texas-RMA - Conv', 'CST Brands Louisiana-RMA - Conv', 'RaceTrac FL/Southern GA-RMA - Conv', 'MotoMart-RMA - Conv', 'RaceTrac Georgia-RMA - Conv', 'CST Brands Arkansas-RMA - Conv', 'Hy-Vee - Hy-Vee Gas-RMA - Conv', 'Arrow Mart-RMA - Conv']\n",
      "[206, 202, 201, 201, 199, 199, 198, 198, 196, 196, 196, 193, 192, 190, 189, 189, 189, 189, 181, 181, 178, 178, 177, 175, 171, 170, 169, 79, 75, 75, 73, 70, 70, 70, 70, 68, 68, 64, 61, 60, 58, 57, 57, 57, 54, 54, 54, 54, 54, 54, 54, 54, 54, 54, 54, 38]\n"
     ]
    }
   ],
   "source": [
    "#Look for value counts in Geography\n",
    "values = df['Geography'].value_counts().keys().tolist()\n",
    "counts = df['Geography'].value_counts().tolist()\n",
    "print(values)\n",
    "print(counts)"
   ]
  },
  {
   "cell_type": "code",
   "execution_count": 295,
   "metadata": {},
   "outputs": [
    {
     "name": "stdout",
     "output_type": "stream",
     "text": [
      "    Dollar Sales\n",
      "0       620683.0\n",
      "1       995725.0\n",
      "2        99810.0\n",
      "3           97.0\n",
      "4        99917.0\n",
      "5          936.0\n",
      "6          991.0\n",
      "7        99500.0\n",
      "8        99169.0\n",
      "9          993.0\n",
      "10          80.0\n",
      "11        9999.0\n",
      "12        9098.0\n",
      "13      989084.0\n",
      "14         975.0\n",
      "15         991.0\n",
      "16      805583.0\n",
      "17        9482.0\n",
      "18       96661.0\n",
      "19       94553.0\n",
      "20        9821.0\n",
      "21         624.0\n",
      "22      992916.0\n",
      "23         991.0\n",
      "24       99743.0\n",
      "25          43.0\n",
      "26       96066.0\n",
      "27       97157.0\n",
      "28      970172.0\n",
      "29       94540.0\n",
      "30      997029.0\n",
      "31         991.0\n",
      "32       92926.0\n",
      "33      960553.0\n",
      "34          96.0\n",
      "35          93.0\n",
      "36        9803.0\n",
      "37      937692.0\n",
      "38        9876.0\n",
      "39       96835.0\n",
      "40         982.0\n",
      "41       67106.0\n",
      "42       97155.0\n",
      "43        7113.0\n",
      "44       98516.0\n",
      "45       99427.0\n",
      "46       40430.0\n",
      "47         974.0\n",
      "48      993140.0\n",
      "49    99950408.0\n",
      "50      508929.0\n",
      "51      251705.0\n",
      "52       94626.0\n",
      "53       47864.0\n",
      "54       98445.0\n",
      "55       93824.0\n"
     ]
    }
   ],
   "source": [
    "#Format Dollar sales from $ format to number format \n",
    "df['Dollar_Sales'] = df['Dollar Sales'].replace('[\\$,]', '', regex=True).astype(float)\n",
    "print(Dollar_Sales)"
   ]
  },
  {
   "cell_type": "code",
   "execution_count": 297,
   "metadata": {},
   "outputs": [
    {
     "data": {
      "text/plain": [
       "count    6.867000e+03\n",
       "mean     3.746907e+06\n",
       "std      1.622650e+07\n",
       "min      1.500000e+01\n",
       "25%      6.430500e+03\n",
       "50%      4.507300e+04\n",
       "75%      5.912510e+05\n",
       "max      1.990142e+08\n",
       "Name: Dollar_Sales, dtype: float64"
      ]
     },
     "execution_count": 297,
     "metadata": {},
     "output_type": "execute_result"
    }
   ],
   "source": [
    "#Determine min, max, std, quartiles\n",
    "df['Dollar_Sales'].describe()"
   ]
  },
  {
   "cell_type": "code",
   "execution_count": 299,
   "metadata": {},
   "outputs": [
    {
     "data": {
      "text/plain": [
       "<matplotlib.axes._subplots.AxesSubplot at 0x1a766f3978>"
      ]
     },
     "execution_count": 299,
     "metadata": {},
     "output_type": "execute_result"
    },
    {
     "data": {
      "image/png": "[encoded data removed]",
      "text/plain": [
       "<matplotlib.figure.Figure at 0x1a76774898>"
      ]
     },
     "metadata": {},
     "output_type": "display_data"
    }
   ],
   "source": [
    "df.boxplot(by='Geography', \n",
    "                       column=['Dollar_Sales'], \n",
    "                       grid=False)"
   ]
  },
  {
   "cell_type": "code",
   "execution_count": 301,
   "metadata": {},
   "outputs": [],
   "source": [
    "#Convert dollars to numbers for Unit Sales\n",
    "df['Unit Sales'] = df['Unit Sales'].replace('[\\$,]', '', regex=True).astype(float)"
   ]
  },
  {
   "cell_type": "code",
   "execution_count": 302,
   "metadata": {},
   "outputs": [
    {
     "data": {
      "text/plain": [
       "Geography\n",
       "Arrow Mart-RMA - Conv                                  1039089.0\n",
       "BP Arizona-RMA - Conv                                  3886086.0\n",
       "BP Central/South California-RMA - Conv                10277304.0\n",
       "BP Corp-RMA - Conv                                    92919737.0\n",
       "BP Los Angeles, CA-RMA - Conv                         37114666.0\n",
       "BP Nevada-RMA - Conv                                   5260577.0\n",
       "BP Northern California-RMA - Conv                     21080759.0\n",
       "BP Northwest-RMA - Conv                               36381097.0\n",
       "BP Pacific Northwest-RMA - Conv                       15300331.0\n",
       "BP Southwest-RMA - Conv                               56538639.0\n",
       "CST Brands Arizona-RMA - Conv                          8380569.0\n",
       "CST Brands Arkansas-RMA - Conv                         4005530.0\n",
       "CST Brands Austin, TX-RMA - Conv                       5537760.0\n",
       "CST Brands Central Texas-RMA - Conv                    4252885.0\n",
       "CST Brands Colorado-RMA - Conv                        20639617.0\n",
       "CST Brands Corp w/ Nice N Easy-RMA - Conv            131353436.0\n",
       "CST Brands Corp-RMA - Conv                           128056788.0\n",
       "CST Brands Corpus Christi Texas Valley-RMA - Conv      5485930.0\n",
       "CST Brands Dallas/Ft. Worth, TX-RMA - Conv            13451091.0\n",
       "CST Brands Houston, TX-RMA - Conv                     29502034.0\n",
       "CST Brands Louisiana-RMA - Conv                        3623240.0\n",
       "CST Brands New Mexico/West Texas-RMA - Conv            5872235.0\n",
       "CST Brands Nice N Easy-RMA - Conv                      3296647.0\n",
       "Circle K - Circle K Arizona Non-Metro-RMA - Conv      17503724.0\n",
       "Circle K - Circle K Arizona-RMA - Conv                98579870.0\n",
       "Circle K - Circle K Great Lakes Total-RMA - Conv     100335382.0\n",
       "Circle K - Circle K Great Lakes-RMA - Conv            73110015.0\n",
       "Circle K - Circle K Heartland-RMA - Conv              68965408.0\n",
       "Circle K - Circle K Las Vegas, NV-RMA - Conv           4711447.0\n",
       "Circle K - Circle K Northeast-RMA - Conv              27225364.0\n",
       "Circle K - Circle K Phoenix, AZ Metro-RMA - Conv      61310849.0\n",
       "Circle K - Circle K Tucson, AZ-RMA - Conv             15053848.0\n",
       "Circle K - Circle K Western-RMA - Conv                34114990.0\n",
       "Circle K Corp-RMA - Conv                             844284079.0\n",
       "Circle K Florida-RMA - Conv                          142767250.0\n",
       "Circle K Gulf-RMA - Conv                              98985451.0\n",
       "Circle K Midwest-RMA - Conv                           88467071.0\n",
       "Circle K South Atlantic-RMA - Conv                    75942575.0\n",
       "Circle K Southeast-RMA - Conv                         91559273.0\n",
       "Circle K Southwest-RMA - Conv                         44566789.0\n",
       "Daily's-RMA - Conv                                    13605799.0\n",
       "Hy-Vee - Hy-Vee Gas-RMA - Conv                        17404212.0\n",
       "Kum & Go Central-RMA - Conv                           15129937.0\n",
       "Kum & Go Corp-RMA - Conv                              59999550.0\n",
       "Kum & Go South-RMA - Conv                             27516102.0\n",
       "Kum & Go West-RMA - Conv                              17353508.0\n",
       "MotoMart-RMA - Conv                                   12725613.0\n",
       "Murphy Express-RMA - Conv                             73141625.0\n",
       "Murphy Oil Total-RMA - Conv                          425973924.0\n",
       "Murphy USA-RMA - Conv                                352832293.0\n",
       "RaceTrac Corp-RMA - Conv                             131999565.0\n",
       "RaceTrac FL/Southern GA-RMA - Conv                    63468380.0\n",
       "RaceTrac Georgia-RMA - Conv                           26014796.0\n",
       "RaceTrac LA/MS-RMA - Conv                             13003823.0\n",
       "RaceTrac Texas-RMA - Conv                             29512563.0\n",
       "Timewise-RMA - Conv                                   19677011.0\n",
       "Name: Unit Sales, dtype: float64"
      ]
     },
     "execution_count": 302,
     "metadata": {},
     "output_type": "execute_result"
    }
   ],
   "source": [
    "#Find sum of units sold by Geography\n",
    "df.groupby(['Geography'])['Unit Sales'].sum()"
   ]
  },
  {
   "cell_type": "code",
   "execution_count": 303,
   "metadata": {},
   "outputs": [
    {
     "data": {
      "text/plain": [
       "3830098133.0"
      ]
     },
     "execution_count": 303,
     "metadata": {},
     "output_type": "execute_result"
    }
   ],
   "source": [
    "#Total units sold in RMA\n",
    "df['Unit Sales'].sum()"
   ]
  },
  {
   "cell_type": "code",
   "execution_count": 304,
   "metadata": {},
   "outputs": [
    {
     "data": {
      "text/plain": [
       "32580203.0"
      ]
     },
     "execution_count": 304,
     "metadata": {},
     "output_type": "execute_result"
    }
   ],
   "source": [
    "#Max Units Sold in RMA\n",
    "df['Unit Sales'].max()"
   ]
  },
  {
   "cell_type": "code",
   "execution_count": 305,
   "metadata": {},
   "outputs": [
    {
     "data": {
      "text/plain": [
       "Geography       Circle K Corp-RMA - Conv\n",
       "Product                       CIGARETTES\n",
       "Time             4 Weeks Ending 07-17-16\n",
       "Dollar Sales               $196,970,758 \n",
       "Unit Sales                   3.25802e+07\n",
       "SKU                     Cigarettes Total\n",
       "Dollar_Sales                 1.96971e+08\n",
       "Name: 5822, dtype: object"
      ]
     },
     "execution_count": 305,
     "metadata": {},
     "output_type": "execute_result"
    }
   ],
   "source": [
    "#Find the row with Maximum Units sold\n",
    "df.loc[df['Unit Sales'].idxmax()]"
   ]
  },
  {
   "cell_type": "markdown",
   "metadata": {},
   "source": [
    "#Insights: Maximum Units are sold in Circle K Corp-RMA for Cigarettes. "
   ]
  },
  {
   "cell_type": "code",
   "execution_count": 306,
   "metadata": {},
   "outputs": [
    {
     "data": {
      "text/plain": [
       "1.0"
      ]
     },
     "execution_count": 306,
     "metadata": {},
     "output_type": "execute_result"
    }
   ],
   "source": [
    "#Minimum Units Sold in RMA\n",
    "df['Unit Sales'].min()"
   ]
  },
  {
   "cell_type": "code",
   "execution_count": 307,
   "metadata": {},
   "outputs": [
    {
     "data": {
      "text/plain": [
       "Geography                           Circle K Southwest-RMA - Conv\n",
       "Product         JUUL ELECTRONIC SMKNG DVC ELECTRONIC CIGRTT KT...\n",
       "Time                                      4 Weeks Ending 09-10-17\n",
       "Dollar Sales                                                 $35 \n",
       "Unit Sales                                                      1\n",
       "SKU                                                  JUUL Devices\n",
       "Dollar_Sales                                                   35\n",
       "Name: 878, dtype: object"
      ]
     },
     "execution_count": 307,
     "metadata": {},
     "output_type": "execute_result"
    }
   ],
   "source": [
    "#Find the row with Minimum Units sold\n",
    "df.loc[df['Unit Sales'].idxmin()]"
   ]
  },
  {
   "cell_type": "markdown",
   "metadata": {},
   "source": [
    "#Insights: Minimum Units are sold for Circle K Southwest-RMA in JUUL Electronic Smkng DVC Electronic Cigarrette kit"
   ]
  },
  {
   "cell_type": "code",
   "execution_count": 308,
   "metadata": {},
   "outputs": [
    {
     "data": {
      "text/plain": [
       "557754.2060579583"
      ]
     },
     "execution_count": 308,
     "metadata": {},
     "output_type": "execute_result"
    }
   ],
   "source": [
    "#Average units sold\n",
    "df['Unit Sales'].mean()"
   ]
  },
  {
   "cell_type": "code",
   "execution_count": 310,
   "metadata": {},
   "outputs": [
    {
     "data": {
      "text/plain": [
       "25730013180.0"
      ]
     },
     "execution_count": 310,
     "metadata": {},
     "output_type": "execute_result"
    }
   ],
   "source": [
    "#Find D total dollar sales in RMA\n",
    "df['Dollar_Sales'].sum()"
   ]
  },
  {
   "cell_type": "code",
   "execution_count": 311,
   "metadata": {},
   "outputs": [
    {
     "data": {
      "text/plain": [
       "199014240.0"
      ]
     },
     "execution_count": 311,
     "metadata": {},
     "output_type": "execute_result"
    }
   ],
   "source": [
    "#Find maximum Dollar sales in RMA\n",
    "df['Dollar_Sales'].max()"
   ]
  },
  {
   "cell_type": "code",
   "execution_count": 312,
   "metadata": {},
   "outputs": [
    {
     "data": {
      "text/plain": [
       "Geography       Circle K Corp-RMA - Conv\n",
       "Product                       CIGARETTES\n",
       "Time             4 Weeks Ending 07-16-17\n",
       "Dollar Sales               $199,014,240 \n",
       "Unit Sales                   3.18901e+07\n",
       "SKU                     Cigarettes Total\n",
       "Dollar_Sales                 1.99014e+08\n",
       "Name: 5835, dtype: object"
      ]
     },
     "execution_count": 312,
     "metadata": {},
     "output_type": "execute_result"
    }
   ],
   "source": [
    "#Find the row with Maximum Dollar sales\n",
    "df.loc[df['Dollar_Sales'].idxmax()]"
   ]
  },
  {
   "cell_type": "markdown",
   "metadata": {},
   "source": [
    "#Insights: Maximum dollar sales are from Circle K Corp-RMA for Cigarettes."
   ]
  },
  {
   "cell_type": "code",
   "execution_count": 313,
   "metadata": {},
   "outputs": [
    {
     "data": {
      "text/plain": [
       "15.0"
      ]
     },
     "execution_count": 313,
     "metadata": {},
     "output_type": "execute_result"
    }
   ],
   "source": [
    "#Min Dollar sales in RMA\n",
    "df['Dollar_Sales'].min()"
   ]
  },
  {
   "cell_type": "code",
   "execution_count": 316,
   "metadata": {},
   "outputs": [
    {
     "data": {
      "text/plain": [
       "Geography        Circle K - Circle K Great Lakes Total-RMA - Conv\n",
       "Product         JUUL ELCTRNC SMKNG ACSRY MIINT DISPOSABLE 4 CT...\n",
       "Time                                      4 Weeks Ending 01-28-18\n",
       "Dollar Sales                                                 $15 \n",
       "Unit Sales                                                      1\n",
       "SKU                                              JUUL Refill Kits\n",
       "Dollar_Sales                                                   15\n",
       "Name: 965, dtype: object"
      ]
     },
     "execution_count": 316,
     "metadata": {},
     "output_type": "execute_result"
    }
   ],
   "source": [
    "#Find the row with Minimum Dollar sales\n",
    "df.loc[df['Dollar_Sales'].idxmin()]"
   ]
  },
  {
   "cell_type": "markdown",
   "metadata": {},
   "source": [
    "#Insights: Minimum dollar sales are from Circle K Great Lakes for JUUL refill kits."
   ]
  },
  {
   "cell_type": "code",
   "execution_count": 338,
   "metadata": {},
   "outputs": [
    {
     "data": {
      "text/plain": [
       "3746907.4093490606"
      ]
     },
     "execution_count": 338,
     "metadata": {},
     "output_type": "execute_result"
    }
   ],
   "source": [
    "#Find average Dollar sales\n",
    "df['Dollar_Sales'].mean()"
   ]
  },
  {
   "cell_type": "code",
   "execution_count": 339,
   "metadata": {
    "scrolled": true
   },
   "outputs": [
    {
     "name": "stdout",
     "output_type": "stream",
     "text": [
      "Product\n",
      "CIGARETTES                                                                          199014240.0\n",
      "ELECTRONIC SMOKING DEVICES                                                            9146547.0\n",
      "JUUL ELCTRNC SMKNG ACSRY ASSORTED DISPOSABLE 4 CT - 0819913011411                          64.0\n",
      "JUUL ELCTRNC SMKNG ACSRY BRUULE DISPOSABLE 4 CT - 0819913011381                        376263.0\n",
      "JUUL ELCTRNC SMKNG ACSRY FRUUT DISPOSABLE 4 CT - 0819913011391                         591618.0\n",
      "JUUL ELCTRNC SMKNG ACSRY MANGO DISPOSABLE 4 CT - 0819913012441                        1446022.0\n",
      "JUUL ELCTRNC SMKNG ACSRY MIINT DISPOSABLE 4 CT - 0819913011401                        1745402.0\n",
      "JUUL ELCTRNC SMKNG ACSRY TABAAC DISPOSABLE 4 CT - 0819913011421                        436533.0\n",
      "JUUL ELECTRONIC SMKNG DVC ELECTRONIC CIGRTT KT RECHARGEABLE 2 CT - 0819913011581       243150.0\n",
      "JUUL ELECTRONIC SMKNG DVC ELECTRONIC CIGRTT KT RECHARGEABLE 3 CT - 0819913011371      1395209.0\n",
      "Name: Dollar_Sales, dtype: float64\n"
     ]
    }
   ],
   "source": [
    "#Determine Maximum dollar sales by Product\n",
    "Max_product_Dollar_Sales = df.groupby(['Product'])['Dollar_Sales'].max()\n",
    "pd.DataFrame(Max_product_Dollar_Sales)\n",
    "print(Max_product_Dollar_Sales)"
   ]
  },
  {
   "cell_type": "markdown",
   "metadata": {},
   "source": [
    "#Insights: Maximum dollar sales are from Cigarettes and Electronic Smoking Devices next high dollar value item. Cigarettes comprise 93% of total revenue and electronic smoking devices account for 4% of total reveneue.  "
   ]
  },
  {
   "cell_type": "code",
   "execution_count": 340,
   "metadata": {
    "scrolled": true
   },
   "outputs": [
    {
     "data": {
      "text/plain": [
       "Text(0,0.5,'Dollar_Sales')"
      ]
     },
     "execution_count": 340,
     "metadata": {},
     "output_type": "execute_result"
    },
    {
     "data": {
      "image/png": "[encoded data removed]",
      "text/plain": [
       "<matplotlib.figure.Figure at 0x1a754e8208>"
      ]
     },
     "metadata": {},
     "output_type": "display_data"
    }
   ],
   "source": [
    "#Plot Maximum dollar sales by Product\n",
    "import matplotlib.pyplot as plt\n",
    "import seaborn\n",
    "\n",
    "%matplotlib inline\n",
    "rep_plot = Max_product_Dollar_Sales.plot(kind='bar')\n",
    "rep_plot.set_xlabel(\"Product\")\n",
    "rep_plot.set_ylabel(\"Dollar_Sales\")"
   ]
  },
  {
   "cell_type": "code",
   "execution_count": 341,
   "metadata": {},
   "outputs": [
    {
     "data": {
      "text/html": [
       "<div>\n",
       "<style scoped>\n",
       "    .dataframe tbody tr th:only-of-type {\n",
       "        vertical-align: middle;\n",
       "    }\n",
       "\n",
       "    .dataframe tbody tr th {\n",
       "        vertical-align: top;\n",
       "    }\n",
       "\n",
       "    .dataframe thead th {\n",
       "        text-align: right;\n",
       "    }\n",
       "</style>\n",
       "<table border=\"1\" class=\"dataframe\">\n",
       "  <thead>\n",
       "    <tr style=\"text-align: right;\">\n",
       "      <th></th>\n",
       "      <th>Unit Sales</th>\n",
       "    </tr>\n",
       "    <tr>\n",
       "      <th>Product</th>\n",
       "      <th></th>\n",
       "    </tr>\n",
       "  </thead>\n",
       "  <tbody>\n",
       "    <tr>\n",
       "      <th>CIGARETTES</th>\n",
       "      <td>46991.0</td>\n",
       "    </tr>\n",
       "    <tr>\n",
       "      <th>ELECTRONIC SMOKING DEVICES</th>\n",
       "      <td>190.0</td>\n",
       "    </tr>\n",
       "    <tr>\n",
       "      <th>JUUL ELCTRNC SMKNG ACSRY ASSORTED DISPOSABLE 4 CT - 0819913011411</th>\n",
       "      <td>1.0</td>\n",
       "    </tr>\n",
       "    <tr>\n",
       "      <th>JUUL ELCTRNC SMKNG ACSRY BRUULE DISPOSABLE 4 CT - 0819913011381</th>\n",
       "      <td>3.0</td>\n",
       "    </tr>\n",
       "    <tr>\n",
       "      <th>JUUL ELCTRNC SMKNG ACSRY FRUUT DISPOSABLE 4 CT - 0819913011391</th>\n",
       "      <td>1.0</td>\n",
       "    </tr>\n",
       "    <tr>\n",
       "      <th>JUUL ELCTRNC SMKNG ACSRY MANGO DISPOSABLE 4 CT - 0819913012441</th>\n",
       "      <td>2.0</td>\n",
       "    </tr>\n",
       "    <tr>\n",
       "      <th>JUUL ELCTRNC SMKNG ACSRY MIINT DISPOSABLE 4 CT - 0819913011401</th>\n",
       "      <td>1.0</td>\n",
       "    </tr>\n",
       "    <tr>\n",
       "      <th>JUUL ELCTRNC SMKNG ACSRY TABAAC DISPOSABLE 4 CT - 0819913011421</th>\n",
       "      <td>1.0</td>\n",
       "    </tr>\n",
       "    <tr>\n",
       "      <th>JUUL ELECTRONIC SMKNG DVC ELECTRONIC CIGRTT KT RECHARGEABLE 2 CT - 0819913011581</th>\n",
       "      <td>1.0</td>\n",
       "    </tr>\n",
       "    <tr>\n",
       "      <th>JUUL ELECTRONIC SMKNG DVC ELECTRONIC CIGRTT KT RECHARGEABLE 3 CT - 0819913011371</th>\n",
       "      <td>1.0</td>\n",
       "    </tr>\n",
       "  </tbody>\n",
       "</table>\n",
       "</div>"
      ],
      "text/plain": [
       "                                                    Unit Sales\n",
       "Product                                                       \n",
       "CIGARETTES                                             46991.0\n",
       "ELECTRONIC SMOKING DEVICES                               190.0\n",
       "JUUL ELCTRNC SMKNG ACSRY ASSORTED DISPOSABLE 4 ...         1.0\n",
       "JUUL ELCTRNC SMKNG ACSRY BRUULE DISPOSABLE 4 CT...         3.0\n",
       "JUUL ELCTRNC SMKNG ACSRY FRUUT DISPOSABLE 4 CT ...         1.0\n",
       "JUUL ELCTRNC SMKNG ACSRY MANGO DISPOSABLE 4 CT ...         2.0\n",
       "JUUL ELCTRNC SMKNG ACSRY MIINT DISPOSABLE 4 CT ...         1.0\n",
       "JUUL ELCTRNC SMKNG ACSRY TABAAC DISPOSABLE 4 CT...         1.0\n",
       "JUUL ELECTRONIC SMKNG DVC ELECTRONIC CIGRTT KT ...         1.0\n",
       "JUUL ELECTRONIC SMKNG DVC ELECTRONIC CIGRTT KT ...         1.0"
      ]
     },
     "execution_count": 341,
     "metadata": {},
     "output_type": "execute_result"
    }
   ],
   "source": [
    "#Determine Minimum dollar sales by Product\n",
    "Min_product_Dollar_Sales = df.groupby(['Product'])['Unit Sales'].min()\n",
    "pd.DataFrame(Min_product_Dollar_Sales)"
   ]
  },
  {
   "cell_type": "markdown",
   "metadata": {},
   "source": [
    "#Insights: JUUL has least amount of revenue from flavored items. JUUL should conduct a market research and target customers who love flavored any flavored drink and find correlation if those customers would also like flavored electronic smoking device and target them."
   ]
  },
  {
   "cell_type": "code",
   "execution_count": 342,
   "metadata": {},
   "outputs": [
    {
     "data": {
      "text/plain": [
       "Text(0,0.5,'Dollar_Sales')"
      ]
     },
     "execution_count": 342,
     "metadata": {},
     "output_type": "execute_result"
    },
    {
     "data": {
      "image/png": "[encoded data removed]",
      "text/plain": [
       "<matplotlib.figure.Figure at 0x1a7558a208>"
      ]
     },
     "metadata": {},
     "output_type": "display_data"
    }
   ],
   "source": [
    "#Plot Minimum dollar sales by Product\n",
    "import matplotlib.pyplot as plt\n",
    "import seaborn\n",
    "\n",
    "%matplotlib inline\n",
    "rep_plot = Min_product_Dollar_Sales.plot(kind='bar')\n",
    "rep_plot.set_xlabel(\"Product\")\n",
    "rep_plot.set_ylabel(\"Dollar_Sales\")"
   ]
  },
  {
   "cell_type": "code",
   "execution_count": 324,
   "metadata": {},
   "outputs": [
    {
     "name": "stdout",
     "output_type": "stream",
     "text": [
      "Product\n",
      "CIGARETTES                                                                          32580203.0\n",
      "ELECTRONIC SMOKING DEVICES                                                            676122.0\n",
      "JUUL ELCTRNC SMKNG ACSRY ASSORTED DISPOSABLE 4 CT - 0819913011411                          4.0\n",
      "JUUL ELCTRNC SMKNG ACSRY BRUULE DISPOSABLE 4 CT - 0819913011381                        23069.0\n",
      "JUUL ELCTRNC SMKNG ACSRY FRUUT DISPOSABLE 4 CT - 0819913011391                         36527.0\n",
      "JUUL ELCTRNC SMKNG ACSRY MANGO DISPOSABLE 4 CT - 0819913012441                         88602.0\n",
      "JUUL ELCTRNC SMKNG ACSRY MIINT DISPOSABLE 4 CT - 0819913011401                        107364.0\n",
      "JUUL ELCTRNC SMKNG ACSRY TABAAC DISPOSABLE 4 CT - 0819913011421                        26466.0\n",
      "JUUL ELECTRONIC SMKNG DVC ELECTRONIC CIGRTT KT RECHARGEABLE 2 CT - 0819913011581        6475.0\n",
      "JUUL ELECTRONIC SMKNG DVC ELECTRONIC CIGRTT KT RECHARGEABLE 3 CT - 0819913011371       30146.0\n",
      "Name: Unit Sales, dtype: float64\n"
     ]
    }
   ],
   "source": [
    "#Determine Maximum Units sold by Product\n",
    "Max_product_Sales = df.groupby(['Product'])['Unit Sales'].max()\n",
    "pd.DataFrame(Max_product_Sales)\n",
    "print(Max_product_Sales)"
   ]
  },
  {
   "cell_type": "code",
   "execution_count": 325,
   "metadata": {},
   "outputs": [
    {
     "data": {
      "text/plain": [
       "Text(0,0.5,'Unit Sales')"
      ]
     },
     "execution_count": 325,
     "metadata": {},
     "output_type": "execute_result"
    },
    {
     "data": {
      "image/png": "[encoded data removed]",
      "text/plain": [
       "<matplotlib.figure.Figure at 0x1a758b8be0>"
      ]
     },
     "metadata": {},
     "output_type": "display_data"
    }
   ],
   "source": [
    "#Plot Maximum unit sales by Product\n",
    "import matplotlib.pyplot as plt\n",
    "import seaborn\n",
    "\n",
    "%matplotlib inline\n",
    "rep_plot = Max_product_Sales.plot(kind='bar')\n",
    "rep_plot.set_xlabel(\"Product\")\n",
    "rep_plot.set_ylabel(\"Unit Sales\")"
   ]
  },
  {
   "cell_type": "code",
   "execution_count": 326,
   "metadata": {},
   "outputs": [
    {
     "name": "stdout",
     "output_type": "stream",
     "text": [
      "Product\n",
      "CIGARETTES                                                                          46991.0\n",
      "ELECTRONIC SMOKING DEVICES                                                            190.0\n",
      "JUUL ELCTRNC SMKNG ACSRY ASSORTED DISPOSABLE 4 CT - 0819913011411                       1.0\n",
      "JUUL ELCTRNC SMKNG ACSRY BRUULE DISPOSABLE 4 CT - 0819913011381                         3.0\n",
      "JUUL ELCTRNC SMKNG ACSRY FRUUT DISPOSABLE 4 CT - 0819913011391                          1.0\n",
      "JUUL ELCTRNC SMKNG ACSRY MANGO DISPOSABLE 4 CT - 0819913012441                          2.0\n",
      "JUUL ELCTRNC SMKNG ACSRY MIINT DISPOSABLE 4 CT - 0819913011401                          1.0\n",
      "JUUL ELCTRNC SMKNG ACSRY TABAAC DISPOSABLE 4 CT - 0819913011421                         1.0\n",
      "JUUL ELECTRONIC SMKNG DVC ELECTRONIC CIGRTT KT RECHARGEABLE 2 CT - 0819913011581        1.0\n",
      "JUUL ELECTRONIC SMKNG DVC ELECTRONIC CIGRTT KT RECHARGEABLE 3 CT - 0819913011371        1.0\n",
      "Name: Unit Sales, dtype: float64\n"
     ]
    }
   ],
   "source": [
    "#Determine Minimum Units sold by Product\n",
    "Min_product_Sales = df.groupby(['Product'])['Unit Sales'].min()\n",
    "pd.DataFrame(Min_product_Sales)\n",
    "print(Min_product_Sales)"
   ]
  },
  {
   "cell_type": "code",
   "execution_count": 327,
   "metadata": {},
   "outputs": [
    {
     "data": {
      "text/plain": [
       "Text(0,0.5,'Unit Sales')"
      ]
     },
     "execution_count": 327,
     "metadata": {},
     "output_type": "execute_result"
    },
    {
     "data": {
      "image/png": "[encoded data removed]",
      "text/plain": [
       "<matplotlib.figure.Figure at 0x1a75a2f080>"
      ]
     },
     "metadata": {},
     "output_type": "display_data"
    }
   ],
   "source": [
    "#Plot Minimum units sold by Product\n",
    "import matplotlib.pyplot as plt\n",
    "import seaborn\n",
    "\n",
    "%matplotlib inline\n",
    "rep_plot = Min_product_Sales.plot(kind='bar')\n",
    "rep_plot.set_xlabel(\"Product\")\n",
    "rep_plot.set_ylabel(\"Unit Sales\")"
   ]
  },
  {
   "cell_type": "code",
   "execution_count": 328,
   "metadata": {},
   "outputs": [
    {
     "data": {
      "text/plain": [
       "Product\n",
       "CIGARETTES                                                                          2.507949e+10\n",
       "ELECTRONIC SMOKING DEVICES                                                          4.949368e+08\n",
       "JUUL ELCTRNC SMKNG ACSRY ASSORTED DISPOSABLE 4 CT - 0819913011411                   4.000000e+02\n",
       "JUUL ELCTRNC SMKNG ACSRY BRUULE DISPOSABLE 4 CT - 0819913011381                     1.779744e+07\n",
       "JUUL ELCTRNC SMKNG ACSRY FRUUT DISPOSABLE 4 CT - 0819913011391                      1.181366e+07\n",
       "JUUL ELCTRNC SMKNG ACSRY MANGO DISPOSABLE 4 CT - 0819913012441                      1.299926e+07\n",
       "JUUL ELCTRNC SMKNG ACSRY MIINT DISPOSABLE 4 CT - 0819913011401                      5.541268e+07\n",
       "JUUL ELCTRNC SMKNG ACSRY TABAAC DISPOSABLE 4 CT - 0819913011421                     2.077446e+07\n",
       "JUUL ELECTRONIC SMKNG DVC ELECTRONIC CIGRTT KT RECHARGEABLE 2 CT - 0819913011581    6.900396e+06\n",
       "JUUL ELECTRONIC SMKNG DVC ELECTRONIC CIGRTT KT RECHARGEABLE 3 CT - 0819913011371    2.988764e+07\n",
       "Name: Dollar_Sales, dtype: float64"
      ]
     },
     "execution_count": 328,
     "metadata": {},
     "output_type": "execute_result"
    }
   ],
   "source": [
    "#Determine the total dollar sales in each Product\n",
    "df.groupby(['Product'])['Dollar_Sales'].sum()"
   ]
  },
  {
   "cell_type": "code",
   "execution_count": 329,
   "metadata": {},
   "outputs": [
    {
     "data": {
      "text/plain": [
       "Product\n",
       "CIGARETTES                                                                          3.771879e+09\n",
       "ELECTRONIC SMOKING DEVICES                                                          5.056082e+07\n",
       "JUUL ELCTRNC SMKNG ACSRY ASSORTED DISPOSABLE 4 CT - 0819913011411                   2.500000e+01\n",
       "JUUL ELCTRNC SMKNG ACSRY BRUULE DISPOSABLE 4 CT - 0819913011381                     1.017849e+06\n",
       "JUUL ELCTRNC SMKNG ACSRY FRUUT DISPOSABLE 4 CT - 0819913011391                      7.261240e+05\n",
       "JUUL ELCTRNC SMKNG ACSRY MANGO DISPOSABLE 4 CT - 0819913012441                      7.848820e+05\n",
       "JUUL ELCTRNC SMKNG ACSRY MIINT DISPOSABLE 4 CT - 0819913011401                      3.108361e+06\n",
       "JUUL ELCTRNC SMKNG ACSRY TABAAC DISPOSABLE 4 CT - 0819913011421                     1.180299e+06\n",
       "JUUL ELECTRONIC SMKNG DVC ELECTRONIC CIGRTT KT RECHARGEABLE 2 CT - 0819913011581    1.834870e+05\n",
       "JUUL ELECTRONIC SMKNG DVC ELECTRONIC CIGRTT KT RECHARGEABLE 3 CT - 0819913011371    6.577340e+05\n",
       "Name: Unit Sales, dtype: float64"
      ]
     },
     "execution_count": 329,
     "metadata": {},
     "output_type": "execute_result"
    }
   ],
   "source": [
    "#Determine the total units sold for each Product\n",
    "df.groupby(['Product'])['Unit Sales'].sum()"
   ]
  },
  {
   "cell_type": "code",
   "execution_count": 330,
   "metadata": {},
   "outputs": [
    {
     "data": {
      "text/plain": [
       "JUUL Refill Kits    2957\n",
       "Cigarettes Total    1504\n",
       "E-Cigs Total        1504\n",
       "JUUL Devices         902\n",
       "Name: SKU, dtype: int64"
      ]
     },
     "execution_count": 330,
     "metadata": {},
     "output_type": "execute_result"
    }
   ],
   "source": [
    "#Look at value counts for SKU \n",
    "df['SKU'].value_counts()"
   ]
  },
  {
   "cell_type": "markdown",
   "metadata": {},
   "source": [
    "Insights: It seems there are more JUUL refill units on the counter and less Cigarattes in terms of inventory. But, since the sale of JUUL Refills is way less than cigarettes, we should either reduce the inventory of JUUL refill or increase sales of JUUL refills through marketing campaigns to avoid any inventory backlogs. "
   ]
  },
  {
   "cell_type": "code",
   "execution_count": 345,
   "metadata": {},
   "outputs": [
    {
     "name": "stdout",
     "output_type": "stream",
     "text": [
      "SKU\n",
      "Cigarettes Total    199014240.0\n",
      "E-Cigs Total          9146547.0\n",
      "JUUL Devices          1395209.0\n",
      "JUUL Refill Kits      1745402.0\n",
      "Name: Dollar_Sales, dtype: float64\n"
     ]
    }
   ],
   "source": [
    "#Determine Maximum dollar sales by SKU\n",
    "Max_SKU_Dollar_Sales = df.groupby(['SKU'])['Dollar_Sales'].max()\n",
    "pd.DataFrame(Max_SKU_Dollar_Sales)\n",
    "print(Max_SKU_Dollar_Sales)"
   ]
  },
  {
   "cell_type": "code",
   "execution_count": 346,
   "metadata": {},
   "outputs": [
    {
     "data": {
      "text/plain": [
       "Text(0,0.5,'Dollar_Sales')"
      ]
     },
     "execution_count": 346,
     "metadata": {},
     "output_type": "execute_result"
    },
    {
     "data": {
      "image/png": "[encoded data removed]",
      "text/plain": [
       "<matplotlib.figure.Figure at 0x1a75480400>"
      ]
     },
     "metadata": {},
     "output_type": "display_data"
    }
   ],
   "source": [
    "#Plot Maximum dollar sales by SKU\n",
    "import matplotlib.pyplot as plt\n",
    "import seaborn\n",
    "\n",
    "%matplotlib inline\n",
    "rep_plot = Max_SKU_Dollar_Sales.plot(kind='bar')\n",
    "rep_plot.set_xlabel(\"SKU\")\n",
    "rep_plot.set_ylabel(\"Dollar_Sales\")"
   ]
  },
  {
   "cell_type": "code",
   "execution_count": 332,
   "metadata": {},
   "outputs": [
    {
     "name": "stdout",
     "output_type": "stream",
     "text": [
      "SKU\n",
      "Cigarettes Total    452882.0\n",
      "E-Cigs Total          1798.0\n",
      "JUUL Devices            35.0\n",
      "JUUL Refill Kits        15.0\n",
      "Name: Dollar_Sales, dtype: float64\n"
     ]
    }
   ],
   "source": [
    "#Determine Minimum dollar sales by SKU\n",
    "Min_SKU_Dollar_Sales = df.groupby(['SKU'])['Dollar_Sales'].min()\n",
    "pd.DataFrame(Min_SKU_Dollar_Sales)\n",
    "print(Min_SKU_Dollar_Sales)"
   ]
  },
  {
   "cell_type": "code",
   "execution_count": 347,
   "metadata": {},
   "outputs": [
    {
     "data": {
      "text/plain": [
       "Text(0,0.5,'Dollar_Sales')"
      ]
     },
     "execution_count": 347,
     "metadata": {},
     "output_type": "execute_result"
    },
    {
     "data": {
      "image/png": "[encoded data removed]",
      "text/plain": [
       "<matplotlib.figure.Figure at 0x1a86cc73c8>"
      ]
     },
     "metadata": {},
     "output_type": "display_data"
    }
   ],
   "source": [
    "#Plot Minimum dollar sales by SKU\n",
    "import matplotlib.pyplot as plt\n",
    "import seaborn\n",
    "\n",
    "%matplotlib inline\n",
    "rep_plot = Min_SKU_Dollar_Sales.plot(kind='bar')\n",
    "rep_plot.set_xlabel(\"SKU\")\n",
    "rep_plot.set_ylabel(\"Dollar_Sales\")"
   ]
  },
  {
   "cell_type": "code",
   "execution_count": 348,
   "metadata": {},
   "outputs": [
    {
     "name": "stdout",
     "output_type": "stream",
     "text": [
      "SKU\n",
      "Cigarettes Total    32580203.0\n",
      "E-Cigs Total          676122.0\n",
      "JUUL Devices           30146.0\n",
      "JUUL Refill Kits      107364.0\n",
      "Name: Unit Sales, dtype: float64\n"
     ]
    }
   ],
   "source": [
    "#Determine Maximum Unit sales by SKU\n",
    "Max_SKU_Unit_Sales = df.groupby(['SKU'])['Unit Sales'].max()\n",
    "pd.DataFrame(Max_SKU_Unit_Sales)\n",
    "print(Max_SKU_Unit_Sales)"
   ]
  },
  {
   "cell_type": "code",
   "execution_count": 231,
   "metadata": {},
   "outputs": [
    {
     "data": {
      "text/plain": [
       "Text(0,0.5,'Unit Sales')"
      ]
     },
     "execution_count": 231,
     "metadata": {},
     "output_type": "execute_result"
    },
    {
     "data": {
      "image/png": "[encoded data removed]",
      "text/plain": [
       "<matplotlib.figure.Figure at 0x1a8fe24710>"
      ]
     },
     "metadata": {},
     "output_type": "display_data"
    }
   ],
   "source": [
    "#Plot Maximum units sold by SKU\n",
    "import matplotlib.pyplot as plt\n",
    "import seaborn\n",
    "\n",
    "%matplotlib inline\n",
    "rep_plot = Max_SKU_Unit_Sales.plot(kind='bar')\n",
    "rep_plot.set_xlabel(\"SKU\")\n",
    "rep_plot.set_ylabel(\"Unit Sales\")"
   ]
  },
  {
   "cell_type": "code",
   "execution_count": 349,
   "metadata": {},
   "outputs": [
    {
     "name": "stdout",
     "output_type": "stream",
     "text": [
      "SKU\n",
      "Cigarettes Total    46991.0\n",
      "E-Cigs Total          190.0\n",
      "JUUL Devices            1.0\n",
      "JUUL Refill Kits        1.0\n",
      "Name: Unit Sales, dtype: float64\n"
     ]
    }
   ],
   "source": [
    "#Determine Minimum Unit sales by SKU\n",
    "Min_SKU_Unit_Sales = df.groupby(['SKU'])['Unit Sales'].min()\n",
    "pd.DataFrame(Min_SKU_Unit_Sales)\n",
    "print(Min_SKU_Unit_Sales)"
   ]
  },
  {
   "cell_type": "code",
   "execution_count": 335,
   "metadata": {},
   "outputs": [
    {
     "data": {
      "text/plain": [
       "Text(0,0.5,'Unit Sales')"
      ]
     },
     "execution_count": 335,
     "metadata": {},
     "output_type": "execute_result"
    },
    {
     "data": {
      "image/png": "[encoded data removed]",
      "text/plain": [
       "<matplotlib.figure.Figure at 0x1a86de3898>"
      ]
     },
     "metadata": {},
     "output_type": "display_data"
    }
   ],
   "source": [
    "#Plot Minimum units sold by SKU\n",
    "import matplotlib.pyplot as plt\n",
    "import seaborn\n",
    "\n",
    "%matplotlib inline\n",
    "rep_plot = Min_SKU_Unit_Sales.plot(kind='bar')\n",
    "rep_plot.set_xlabel(\"SKU\")\n",
    "rep_plot.set_ylabel(\"Unit Sales\")"
   ]
  },
  {
   "cell_type": "code",
   "execution_count": 350,
   "metadata": {},
   "outputs": [],
   "source": [
    "Total_SKU_Unit_Sales = df.groupby(['SKU'])['Unit Sales'].sum()"
   ]
  },
  {
   "cell_type": "code",
   "execution_count": 337,
   "metadata": {},
   "outputs": [
    {
     "name": "stdout",
     "output_type": "stream",
     "text": [
      "SKU\n",
      "Cigarettes Total    3.771879e+09\n",
      "E-Cigs Total        5.056082e+07\n",
      "JUUL Devices        8.412210e+05\n",
      "JUUL Refill Kits    6.817540e+06\n",
      "Name: Unit Sales, dtype: float64\n"
     ]
    }
   ],
   "source": [
    "print(Total_SKU_Unit_Sales)"
   ]
  },
  {
   "cell_type": "markdown",
   "metadata": {},
   "source": [
    "Insights: We should compare the total sales in RMA markets against other markets like CRMA and SRMA to identify potential market opportunities having sizable growth opportunities and better market penetration. "
   ]
  },
  {
   "cell_type": "code",
   "execution_count": 252,
   "metadata": {},
   "outputs": [
    {
     "name": "stdout",
     "output_type": "stream",
     "text": [
      "SKU\n",
      "Cigarettes Total     6.649072\n",
      "E-Cigs Total         9.788938\n",
      "JUUL Devices        43.731716\n",
      "JUUL Refill Kits    17.425331\n",
      "dtype: float64\n"
     ]
    }
   ],
   "source": [
    "Total_SKU_Dollar_Sales = df.groupby(['SKU'])['Dollar_Sales'].sum()\n",
    "Total_SKU_Unit_Sales = df.groupby(['SKU'])['Unit Sales'].sum()\n",
    "df3 = Total_SKU_Dollar_Sales/Total_SKU_Unit_Sales\n",
    "print(df3)"
   ]
  },
  {
   "cell_type": "markdown",
   "metadata": {},
   "source": [
    "Insights: It seems that JUUL devices are most expensive product line for JUUL, so we should put our focus on increasing our user base to get more users to try out JUUL devices and also focus on engaging the users with best customer service, better packaging and better flavors so that users are more hooked to our brand which would ultimately increase our revenue from JUUL Refills which is the second expebnsive item in the list in terms of unit sale price.\n",
    "Since, the unit sale price of Cigarettes is least in the category, we should focus on increasing more unist fo cigarettes thereby achieving economies of scale. "
   ]
  },
  {
   "cell_type": "markdown",
   "metadata": {},
   "source": [
    "Insights: In short, JUUL should focus on first identifing which market/geography to focus out of RMA, CRMA and SRMA markets. If we see JUUL sales across all markets, it seems Cigarettes comprise only 0.3% of total units sold by JUUL which means that other markets like CRMA and SRMA are selling more cigarettes as compared to RMA.\n",
    "\n",
    "Within the RMA market, it seems Cigarrettes is the top selling product and accounts for 93% of total revenue while Electronic smoking device which is the next best selling accounts for 4% of total revenue. So, there's a huge headroom there for further growth. Within, the flavored e-cigs, Mint refills seems to be way more popular than other flavors. No JUUL accessories are sold in RMA market, we should probably start selling accessories in this market if there's a correlation between accessories purchase and more product usage. \n",
    "\n",
    "Units sold in RMA by Geography: MMaximum Units are sold in Circle K Corp-RMA for Cigarettes. Minimum Units are sold for Circle K Southwest-RMA in JUUL Electronic Smkng DVC Electronic Cigarrette kit. \n",
    "\n",
    "Dollar sales in RMA by Geography: Maximum dollar sales are from Circle K Corp-RMA for Cigarettes. Minimum dollar sales are from Circle K Great Lakes for JUUL refill kits. \n",
    "\n",
    "Flavored Market for JUUL: JUUL has least amount of revenue from flavored items. JUUL should conduct a market research and target customers who love flavored any flavored drink and find correlation if those customers would also like flavored electronic smoking device and target them.\n",
    "\n",
    "Inventory Market for JUUL: When comparing SKU for different products, It seems there are more JUUL refill units on the counter and less Cigarattes in terms of inventory. But, since the sale of JUUL Refills is way less than cigarettes, we should either reduce the inventory of JUUL refill or increase sales of JUUL refills through marketing campaigns to avoid any inventory backlogs. \n",
    "\n",
    "Market-Mix Model for JUUL: Within the RMA market, it seems that JUUL devices are most expensive product line for JUUL in terms of unit sale price so we should put our focus on increasing our user base to get more users to try out JUUL devices and also focus on engaging the users with best customer service, better packaging and better flavors so that users are more hooked to our brand which would ultimately increase our revenue from JUUL Refills which is the second expebnsive item in the list in terms of unit sale price.\n",
    "Since, the unit sale price of Cigarettes is least in the category, we should focus on increasing more units fo cigarettes thereby achieving economies of scale. \n",
    "\n",
    "Overall, I see huge opportunity and headroom to grow based on data in RMA market but would like to formualte better startegy based on forecasting unit sales for different product lines in different markets based on time series models and come up with which product line to focus in which market based on predictions. "
   ]
  }
 ],
 "metadata": {
  "kernelspec": {
   "display_name": "Python 3",
   "language": "python",
   "name": "python3"
  },
  "language_info": {
   "codemirror_mode": {
    "name": "ipython",
    "version": 3
   },
   "file_extension": ".py",
   "mimetype": "text/x-python",
   "name": "python",
   "nbconvert_exporter": "python",
   "pygments_lexer": "ipython3",
   "version": "3.6.4"
  }
 },
 "nbformat": 4,
 "nbformat_minor": 2
}
